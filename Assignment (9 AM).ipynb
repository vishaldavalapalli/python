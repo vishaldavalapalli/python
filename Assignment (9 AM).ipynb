{
 "cells": [
  {
   "cell_type": "code",
   "execution_count": 7,
   "metadata": {},
   "outputs": [
    {
     "name": "stdout",
     "output_type": "stream",
     "text": [
      "89 55 34 21 13 8 5 3 2 1 1 0 "
     ]
    }
   ],
   "source": [
    "# 1. Python Program to print reverse Fibonacci series \n",
    "def reverseFibonacci(N): \n",
    "    x = [0] * N\n",
    "    x[0] = 0\n",
    "    x[1] = 1\n",
    "    for i in range(2, N): \n",
    "        x[i] = x[i - 2] + x[i - 1]\n",
    "    for i in range(N - 1, -1 , -1): \n",
    "        print(x[i],end=\" \")\n",
    "N = 12\n",
    "reverseFibonacci(N) "
   ]
  },
  {
   "cell_type": "code",
   "execution_count": null,
   "metadata": {},
   "outputs": [],
   "source": []
  },
  {
   "cell_type": "code",
   "execution_count": 17,
   "metadata": {},
   "outputs": [
    {
     "name": "stdout",
     "output_type": "stream",
     "text": [
      "--> ******\n",
      "--> \n",
      "--> *******\n",
      "--> *\n",
      "--> \n"
     ]
    }
   ],
   "source": [
    "# 7. The program must accept an integer N the input.\n",
    "lst = [6,0,7,1,0]\n",
    "for x in range(len(lst)):\n",
    "    print(\"-->\",lst[x]*\"*\")"
   ]
  },
  {
   "cell_type": "code",
   "execution_count": 11,
   "metadata": {},
   "outputs": [
    {
     "name": "stdout",
     "output_type": "stream",
     "text": [
      "1,3,9,27,81,243,729,2187,6561,19683,"
     ]
    }
   ],
   "source": [
    "# 10. Function to print powers of three\n",
    "def threePower(N):\n",
    "    for i in range(N):\n",
    "        a = 3 ** i\n",
    "        print(a,end=\",\")\n",
    "    return\n",
    "threePower(10)"
   ]
  },
  {
   "cell_type": "code",
   "execution_count": 10,
   "metadata": {},
   "outputs": [
    {
     "name": "stdout",
     "output_type": "stream",
     "text": [
      "1,2,4,8,16,32,64,128,256,512,"
     ]
    }
   ],
   "source": [
    "# 11. Function to print powers of two\n",
    "def twoPower(N):\n",
    "    for i in range(N):\n",
    "        a = 2 ** i\n",
    "        print(a,end=\",\")\n",
    "    return\n",
    "twoPower(10)"
   ]
  },
  {
   "cell_type": "code",
   "execution_count": 13,
   "metadata": {},
   "outputs": [
    {
     "name": "stdout",
     "output_type": "stream",
     "text": [
      "enter n value11\n",
      "1 3 8 15 27 50 92 169 311 "
     ]
    }
   ],
   "source": [
    "# 12. Series Generations:-  1 3 8 15 27 50 92 169 311\n",
    "n=int(input(\"enter n value\"))\n",
    "a=1;b=3;c=4\n",
    "print(a,b,end=\" \" )\n",
    "for x in range(4,n):\n",
    "    d = a + b + c\n",
    "    print(d,end=\" \")\n",
    "    a = b ; b = c ; c = d"
   ]
  },
  {
   "cell_type": "code",
   "execution_count": 15,
   "metadata": {},
   "outputs": [
    {
     "name": "stdout",
     "output_type": "stream",
     "text": [
      "enter n value10\n",
      "15 41 80 132 197 275 366 470 587 "
     ]
    }
   ],
   "source": [
    "# 13.Series Generations:-  2 15 41 80 132 197 275 366 470 587\n",
    "n = int(input(\"enter n value\"))\n",
    "a = 2\n",
    "for x in range(1,n):\n",
    "    d = a + (13 * x)\n",
    "    print(d,end=\" \")\n",
    "    a = d"
   ]
  },
  {
   "cell_type": "code",
   "execution_count": 16,
   "metadata": {},
   "outputs": [
    {
     "name": "stdout",
     "output_type": "stream",
     "text": [
      "enter n value6\n",
      "1 !+ 2 !+ 3 !+ 4 !+ 5 !+ "
     ]
    }
   ],
   "source": [
    "# 14. Series Generations:-  1! + 2! + 3! + 4! + 5! + ... + n!\n",
    "n=int(input(\"enter n value\"))\n",
    "for x in range(1,n):\n",
    "    print(x,\"!+\",end=\" \")"
   ]
  },
  {
   "cell_type": "code",
   "execution_count": null,
   "metadata": {},
   "outputs": [],
   "source": [
    "\n",
    "   "
   ]
  }
 ],
 "metadata": {
  "kernelspec": {
   "display_name": "Python 3",
   "language": "python",
   "name": "python3"
  },
  "language_info": {
   "codemirror_mode": {
    "name": "ipython",
    "version": 3
   },
   "file_extension": ".py",
   "mimetype": "text/x-python",
   "name": "python",
   "nbconvert_exporter": "python",
   "pygments_lexer": "ipython3",
   "version": "3.7.3"
  }
 },
 "nbformat": 4,
 "nbformat_minor": 2
}
