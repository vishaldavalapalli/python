{
 "cells": [
  {
   "cell_type": "code",
   "execution_count": 3,
   "metadata": {},
   "outputs": [
    {
     "name": "stdout",
     "output_type": "stream",
     "text": [
      "1 2 3 4 6 12 "
     ]
    }
   ],
   "source": [
    "#find the factors of given nos\n",
    "#12-->1 2 3 4 6 12\n",
    "def factorslist(n):\n",
    "    for i in range(1,n+1):\n",
    "        if n%i==0:\n",
    "            print(i,end=\" \")\n",
    "    return\n",
    "factorslist(12)"
   ]
  },
  {
   "cell_type": "code",
   "execution_count": 7,
   "metadata": {},
   "outputs": [
    {
     "data": {
      "text/plain": [
       "True"
      ]
     },
     "execution_count": 7,
     "metadata": {},
     "output_type": "execute_result"
    }
   ],
   "source": [
    "#given no is a prime no or not\n",
    "def isprime(n):\n",
    "    flag = True\n",
    "    for i in range(2,n//2+1):\n",
    "        if n%i==0:\n",
    "            flag = False\n",
    "            return flag\n",
    "    return flag\n",
    "isprime(11)\n",
    "    "
   ]
  },
  {
   "cell_type": "code",
   "execution_count": 1,
   "metadata": {},
   "outputs": [
    {
     "data": {
      "text/plain": [
       "4"
      ]
     },
     "execution_count": 1,
     "metadata": {},
     "output_type": "execute_result"
    }
   ],
   "source": [
    "#function to find prime nos count from 1 to n\n",
    "#10--4 (2,3,5,7)\n",
    "def primecount(n):\n",
    "    cnt=0\n",
    "    for a in range(2,n+1):\n",
    "        k=0\n",
    "        for i in range(2,a//2+1):\n",
    "            if a%i==0:\n",
    "                k=k+1\n",
    "        if(k<=0):\n",
    "            cnt=cnt+1\n",
    "    return cnt\n",
    "primecount(10)\n",
    "                "
   ]
  },
  {
   "cell_type": "code",
   "execution_count": 2,
   "metadata": {},
   "outputs": [
    {
     "name": "stdout",
     "output_type": "stream",
     "text": [
      "yes\n",
      "no\n"
     ]
    }
   ],
   "source": [
    "#indivisual digit factorial sum is same as original no\n",
    "#example:-\n",
    "#145--yes(5!+4!+1!)\n",
    "#123--no(3!+2!+1!)\n",
    "def factorial(n):\n",
    "    fact=1\n",
    "    for i in range(2,n+1):\n",
    "        fact*=i\n",
    "    return fact\n",
    "def digitfactsum(n):\n",
    "    sum=0\n",
    "    buffer=n\n",
    "    while n!=0:\n",
    "        r=n%10\n",
    "        sum +=factorial(r)\n",
    "        n=n//10\n",
    "    if sum==buffer:\n",
    "        return \"yes\"\n",
    "    else:\n",
    "        return \"no\"\n",
    "print(digitfactsum(145))\n",
    "print(digitfactsum(123))"
   ]
  },
  {
   "cell_type": "code",
   "execution_count": 8,
   "metadata": {},
   "outputs": [
    {
     "data": {
      "text/plain": [
       "9"
      ]
     },
     "execution_count": 8,
     "metadata": {},
     "output_type": "execute_result"
    }
   ],
   "source": [
    "#function to return the count of palindrome no two limits\n",
    "#input:1 10\n",
    "#output:9(1,2,3,4,5,6,7,8,9)\n",
    "\n",
    "#input:11 100\n",
    "#output:9(11,12,13,...........,99)\n",
    "def ispalindrome(n):\n",
    "    rev=0\n",
    "    buffer=n\n",
    "    while n!=0:\n",
    "        r=n%10\n",
    "        rev=rev*10+r\n",
    "        n=n//10\n",
    "    if rev==buffer:\n",
    "        return True\n",
    "    else:\n",
    "        return False\n",
    "    return\n",
    "def countpalindrome(lb,ub):\n",
    "    cnt=0\n",
    "    while lb!=ub:\n",
    "        if ispalindrome(lb)==True:\n",
    "            cnt=cnt+1\n",
    "        lb=lb+1\n",
    "    return cnt\n",
    "countpalindrome(1,10)"
   ]
  },
  {
   "cell_type": "code",
   "execution_count": 12,
   "metadata": {},
   "outputs": [
    {
     "name": "stdout",
     "output_type": "stream",
     "text": [
      "6 \n",
      "6 28 496 8128 \n"
     ]
    }
   ],
   "source": [
    "#function to generate the perfect nos in given range\n",
    "#perfect nos:sum of all its factors same as original no\n",
    "#example:6--1 2 3 (1+2+3)\n",
    "#input:1 10\n",
    "#output:6\n",
    "def factorlist(n):\n",
    "    sum=0\n",
    "    for i in range(1,n//2+1):\n",
    "        if n%i==0:\n",
    "            sum=sum+i\n",
    "    return sum\n",
    "def isperfect(n):\n",
    "    if factorlist(n)==n:\n",
    "        return True\n",
    "    return False\n",
    "def generateperfect(lb,ub):\n",
    "    for x in range(lb,ub+1):\n",
    "        if isperfect(x):\n",
    "            print(x,end=\" \")\n",
    "    print()\n",
    "    return\n",
    "generateperfect(1,10)\n",
    "generateperfect(1,10000)"
   ]
  },
  {
   "cell_type": "code",
   "execution_count": 13,
   "metadata": {},
   "outputs": [
    {
     "name": "stdout",
     "output_type": "stream",
     "text": [
      "p\n",
      "n\n",
      "n\n",
      "6\n"
     ]
    }
   ],
   "source": [
    "s1=\"python\"\n",
    "print(s1[0])\n",
    "print(s1[5])\n",
    "print(s1[len(s1)-1])\n",
    "print(len(s1))"
   ]
  },
  {
   "cell_type": "code",
   "execution_count": 21,
   "metadata": {},
   "outputs": [
    {
     "name": "stdout",
     "output_type": "stream",
     "text": [
      "n\n",
      "o\n",
      "py\n",
      "py\n",
      "hon\n",
      "thon\n",
      "ytho\n",
      "h\n",
      "nohtyp\n",
      "no\n",
      "pto\n",
      "ph\n"
     ]
    }
   ],
   "source": [
    "print(s1[-1])\n",
    "print(s1[-2])\n",
    "print(s1[0:2])\n",
    "print(s1[:2])\n",
    "print(s1[-3:])\n",
    "print(s1[2:])\n",
    "print(s1[1:-1])\n",
    "print(s1[len(s1)//2])\n",
    "print(s1[-1::-1])\n",
    "print(s1[-1:-3:-1])\n",
    "print(s1[::2])\n",
    "print(s1[::3])"
   ]
  },
  {
   "cell_type": "code",
   "execution_count": 22,
   "metadata": {},
   "outputs": [
    {
     "data": {
      "text/plain": [
       "'gnimmargorp'"
      ]
     },
     "execution_count": 22,
     "metadata": {},
     "output_type": "execute_result"
    }
   ],
   "source": [
    "def revstring(str):\n",
    "    return str[-1::-1]\n",
    "revstring(\"programming\")"
   ]
  },
  {
   "cell_type": "code",
   "execution_count": 24,
   "metadata": {},
   "outputs": [
    {
     "name": "stdout",
     "output_type": "stream",
     "text": [
      "False\n",
      "True\n"
     ]
    }
   ],
   "source": [
    "def ispalindrome(str):\n",
    "    if str==str[::-1]:\n",
    "        return  True\n",
    "    else:\n",
    "        return False\n",
    "    return\n",
    "print(ispalindrome(\"python\"))\n",
    "print(ispalindrome(\"ganag\"))"
   ]
  },
  {
   "cell_type": "code",
   "execution_count": 27,
   "metadata": {},
   "outputs": [
    {
     "name": "stdout",
     "output_type": "stream",
     "text": [
      "P T "
     ]
    }
   ],
   "source": [
    "#function to print the upper case characters\n",
    "#ASCII:\n",
    "#A-Z:65-90\n",
    "#a-z:48-57\n",
    "#space:32\n",
    "def printupper(x):\n",
    "    for i in range(len(x)):\n",
    "        if ord(x[i])>=65 and ord(x[i])<=90:\n",
    "            print(x[i],end=\" \")\n",
    "    return\n",
    "printupper(\"PyThon\")"
   ]
  },
  {
   "cell_type": "code",
   "execution_count": 41,
   "metadata": {},
   "outputs": [
    {
     "name": "stdout",
     "output_type": "stream",
     "text": [
      "samecount\n",
      "programming\n"
     ]
    }
   ],
   "source": [
    "#function to print \"python\" if the count of \n",
    "#upper and lower case is same\n",
    "#print \"programming\" if not same\n",
    "#example:python --3 P T D(uppercase)--same count\n",
    "#               --3 y  t h n (lowercase)\n",
    "#PytHon--P H (2)\n",
    "#       --y t o n(4)-programming\n",
    "def caseletters(str): \n",
    "    cntupper=0\n",
    "    cntlower=0\n",
    "    for i in range(len(str)):\n",
    "        if ord(str[i])>=65 and ord(str[i])<=90:\n",
    "            cntupper=cntupper+1\n",
    "        elif ord(str[i])>=97 and ord(str[i])<=122:\n",
    "            cntlower=cntlower+1\n",
    "    if cntupper==cntlower:\n",
    "        return \"samecount\"\n",
    "    else:\n",
    "        return \"programming\"\n",
    "    return\n",
    "print(caseletters('PYThon'))\n",
    "print(caseletters('PYTHon'))"
   ]
  },
  {
   "cell_type": "code",
   "execution_count": 45,
   "metadata": {},
   "outputs": [
    {
     "name": "stdout",
     "output_type": "stream",
     "text": [
      "1 8 8 9 "
     ]
    }
   ],
   "source": [
    "#extract digits from given strings\n",
    "#example:\n",
    "#input:appli1cat8ion89\n",
    "#output:1 8 8 9\n",
    "def extractdigits(str):\n",
    "    for x in range(len(str)):\n",
    "        if ord(str[x])>=48 and ord(str[x])<=57:\n",
    "            print(str[x],end=\" \")\n",
    "    return\n",
    "extractdigits(\"appli1cat8ion89\")"
   ]
  },
  {
   "cell_type": "code",
   "execution_count": 48,
   "metadata": {},
   "outputs": [
    {
     "data": {
      "text/plain": [
       "26"
      ]
     },
     "execution_count": 48,
     "metadata": {},
     "output_type": "execute_result"
    }
   ],
   "source": [
    "#function to return\n",
    "#example:\n",
    "#input:appli1cat8ion89\n",
    "#output:26(1+8+8+9)\n",
    "def sum(str):\n",
    "    sum=0\n",
    "    for x in range(len(str)):\n",
    "           if ord(str[x])>=48 and ord(str[x])<=57:\n",
    "                sum=sum+(ord(str[x])-48)\n",
    "    return sum\n",
    "sum('appli1cat8ion89')"
   ]
  },
  {
   "cell_type": "code",
   "execution_count": 50,
   "metadata": {},
   "outputs": [
    {
     "data": {
      "text/plain": [
       "16"
      ]
     },
     "execution_count": 50,
     "metadata": {},
     "output_type": "execute_result"
    }
   ],
   "source": [
    "#function to return\n",
    "#example:\n",
    "#input:appli1cat8ion89\n",
    "#output:16(8+8)\n",
    "#function to return\n",
    "#example:\n",
    "#input:appli1cat8ion89\n",
    "#output:26(1+8+8+9)\n",
    "def sum(str):\n",
    "    sum=0\n",
    "    for x in range(len(str)):\n",
    "           if ord(str[x])>=48 and ord(str[x])<=57:\n",
    "                if (ord(str[x])-48)%2==0:\n",
    "                    sum=sum+(ord(str[x])-48)\n",
    "    return sum\n",
    "sum('appli1cat8ion89')"
   ]
  },
  {
   "cell_type": "code",
   "execution_count": 59,
   "metadata": {},
   "outputs": [
    {
     "name": "stdout",
     "output_type": "stream",
     "text": [
      "M A D E "
     ]
    }
   ],
   "source": [
    "#function to  print specific word in uppercase\n",
    "#example:\n",
    "#input:python made easy\n",
    "#output:MADE\n",
    "#input:learn python programming\n",
    "#output:PYTHON\n",
    "def uppercase(s):\n",
    "    spacecnt=0\n",
    "    for x in range(len(s)):\n",
    "        if ord(s[x])==32:\n",
    "            spacecnt+=1\n",
    "        if spacecnt==1:\n",
    "            if ord(s[x])>=65 and ord(s[x])<=90:\n",
    "                print(s[x],end=\" \")\n",
    "            elif ord(s[x])>=97 and ord(s[x])<=122:\n",
    "                print(chr(ord(s[x])-32),end=\" \")\n",
    "        if spacecnt==2:\n",
    "            break\n",
    "    return\n",
    "uppercase('python made easy')"
   ]
  },
  {
   "cell_type": "code",
   "execution_count": null,
   "metadata": {},
   "outputs": [],
   "source": []
  },
  {
   "cell_type": "code",
   "execution_count": null,
   "metadata": {},
   "outputs": [],
   "source": []
  }
 ],
 "metadata": {
  "kernelspec": {
   "display_name": "Python 3",
   "language": "python",
   "name": "python3"
  },
  "language_info": {
   "codemirror_mode": {
    "name": "ipython",
    "version": 3
   },
   "file_extension": ".py",
   "mimetype": "text/x-python",
   "name": "python",
   "nbconvert_exporter": "python",
   "pygments_lexer": "ipython3",
   "version": "3.7.3"
  }
 },
 "nbformat": 4,
 "nbformat_minor": 2
}
