{
 "cells": [
  {
   "cell_type": "markdown",
   "metadata": {},
   "source": [
    "### regular expression\n",
    "- pattern matching\n",
    "- patterns(re)package\n",
    "- cap symbol is used to represent the start of re\n",
    "- dollar symbol is used to represent the end of re\n",
    "- [0-9]-->any digit matching\n",
    "- ^[0-9]{2}$ -  two digit number(^[0-9]{2}$)\n",
    "- ^[0-9]{5}$ - five digit number(^[0-9]{5}$)"
   ]
  },
  {
   "cell_type": "markdown",
   "metadata": {},
   "source": [
    "### Regular expressions for characters\n",
    "- [a-z]-->any lower case\n",
    "- [A-Z]-->any upper case\n",
    "- ^[a-z]{5}$--> it accepts 5 lower case characters\n",
    "\n",
    "- ^[a-zA-Z]{8}--> accept 8 characters can be anything lower and upper\n",
    "- ^  [a-zA-Z0-9]{8}$--> Accept 8 characters can be anything lower,upper and digit"
   ]
  },
  {
   "cell_type": "code",
   "execution_count": 1,
   "metadata": {},
   "outputs": [
    {
     "name": "stdout",
     "output_type": "stream",
     "text": [
      "True\n",
      "False\n"
     ]
    }
   ],
   "source": [
    "#function to test two digit no \n",
    "import re\n",
    "def twodigitmatching(n):\n",
    "    pattern='^[0-9]{2}$'\n",
    "    n=str(n)\n",
    "    if re.match(pattern,n):\n",
    "        return True\n",
    "    return False\n",
    "print(twodigitmatching(12))\n",
    "print(twodigitmatching(123))"
   ]
  },
  {
   "cell_type": "code",
   "execution_count": 2,
   "metadata": {},
   "outputs": [
    {
     "name": "stdout",
     "output_type": "stream",
     "text": [
      "True\n",
      "False\n"
     ]
    }
   ],
   "source": [
    "#function to define to test username having 8 characters\n",
    "#upper and lower case\n",
    "def testusername(s):\n",
    "    pattern='^[a-zA-Z]{8}$'\n",
    "    if re.match(pattern,s):\n",
    "        return True\n",
    "    return False \n",
    "print(testusername('GitamHYD'))\n",
    "print(testusername('Gitam188'))"
   ]
  },
  {
   "cell_type": "markdown",
   "metadata": {},
   "source": [
    "### regular expression to match the indian mobile no\n",
    "- 10 digits\n",
    "- (first digit will be [6-9]) and remaining 9 digits will be [0-9] \n",
    "- example-6303875089\n",
    "- re-^[6-9][0-9]{9}\n",
    "- example :-6598234657\n",
    "- Re-^[6-9][0-9]{9}$\n",
    "- example :- +916598234657"
   ]
  },
  {
   "cell_type": "code",
   "execution_count": 4,
   "metadata": {},
   "outputs": [
    {
     "data": {
      "text/plain": [
       "True"
      ]
     },
     "execution_count": 4,
     "metadata": {},
     "output_type": "execute_result"
    }
   ],
   "source": [
    "#function to validate the indian mobile no\n",
    "def phoneno(phone):\n",
    "    pattern='^[6-9][0-9]{9}$|^[0][6-9][0-9]{9}$|^[+][9][1][6-9][0-9]{9}'\n",
    "    phone=str(phone)\n",
    "    if re.match(pattern,phone):\n",
    "        return True\n",
    "    return False\n",
    "phoneno(9988775544)"
   ]
  },
  {
   "cell_type": "markdown",
   "metadata": {},
   "source": [
    "- regular expression to validate the roll no\n",
    "   - example:1521A0501\n",
    "   - example:1521A0109\n",
    "   - example:1521A0499\n",
    "- regular expression to validate the password\n",
    "    - parameters:len min 6 characters and max of 15 characters\n",
    "    - accept lower case ,upper case,digits spl char(@,#,!)"
   ]
  },
  {
   "cell_type": "code",
   "execution_count": 13,
   "metadata": {},
   "outputs": [
    {
     "name": "stdout",
     "output_type": "stream",
     "text": [
      "True\n",
      "False\n",
      "True\n"
     ]
    }
   ],
   "source": [
    "def rollno(no):\n",
    "    pattern='^[1][5][2][1][A][0][0-6][0-9]{2}'\n",
    "    rollno=str(no)\n",
    "    if re.match(pattern,no):\n",
    "        return True\n",
    "    return False\n",
    "print(rollno('1521A0501'))\n",
    "print(rollno('1521A0109'))\n",
    "print(rollno('1521A0499'))"
   ]
  },
  {
   "cell_type": "code",
   "execution_count": 27,
   "metadata": {},
   "outputs": [
    {
     "name": "stdout",
     "output_type": "stream",
     "text": [
      "True\n"
     ]
    }
   ],
   "source": [
    "def password(no):\n",
    "    pattern='^[a-zA-Z0-9@#!]{6,15}$'\n",
    "    password=str(no)\n",
    "    if re.match(pattern,no):\n",
    "        return True\n",
    "    return False\n",
    "print(password('zip@2304'))"
   ]
  },
  {
   "cell_type": "markdown",
   "metadata": {},
   "source": [
    "### email id validation using regular expressions\n",
    "- example:-username@domainname.extension\n",
    "- username:-\n",
    "    - length will be [6-15]\n",
    "    - no spls characters apart from underscore(_)\n",
    "    - shld not begin and end with underscore(_)\n",
    "    - characters set:all digits and lower case\n",
    "- domain name:-\n",
    "   - length will be [3-18]\n",
    "   - no spl characters\n",
    "   - character set:all digits and lower case\n",
    "- extension:-\n",
    "    - length will be [2-4]\n",
    "    - no spl characters\n",
    "    - character set:lower case characters"
   ]
  },
  {
   "cell_type": "code",
   "execution_count": 29,
   "metadata": {
    "scrolled": true
   },
   "outputs": [
    {
     "data": {
      "text/plain": [
       "True"
      ]
     },
     "execution_count": 29,
     "metadata": {},
     "output_type": "execute_result"
    }
   ],
   "source": [
    "def emailid(email):\n",
    "    pattern='^[0-9a-z][0-9a-z_.]{5,14}[@][a-z0-9]{3,18}[.][a-z]{2,4}$'\n",
    "    if re.match(pattern,email):\\\n",
    "        return True\n",
    "    return False\n",
    "emailid('robert189@gmail.com')"
   ]
  },
  {
   "cell_type": "markdown",
   "metadata": {},
   "source": [
    "### pyhton turtle\n",
    "- turtle graphics"
   ]
  },
  {
   "cell_type": "code",
   "execution_count": 1,
   "metadata": {},
   "outputs": [],
   "source": [
    "#step i:make all the turtle package to be imported\n",
    "import turtle\n",
    "a1=turtle.Turtle()\n",
    "turtle.forward(250)\n",
    "turtle.done()"
   ]
  },
  {
   "cell_type": "code",
   "execution_count": 3,
   "metadata": {},
   "outputs": [],
   "source": [
    "#line draw in reverse direction\n",
    "import turtle as tt\n",
    "a1=tt.Turtle()\n",
    "tt.backward(100)\n",
    "tt.done()"
   ]
  },
  {
   "cell_type": "code",
   "execution_count": 8,
   "metadata": {},
   "outputs": [],
   "source": [
    "#draw square\n",
    "import turtle as tt\n",
    "a1=tt.Turtle()\n",
    "a1.forward(150)\n",
    "a1.right(90)\n",
    "a1.forward(150)\n",
    "a1.right(90)\n",
    "a1.forward(150)\n",
    "a1.right(90)\n",
    "a1.forward(150)\n",
    "a1.right(90)\n",
    "tt.done()"
   ]
  },
  {
   "cell_type": "code",
   "execution_count": null,
   "metadata": {},
   "outputs": [],
   "source": [
    "#draw the square\n",
    "import turtle as t\n",
    "aa=t.Turtle()\n",
    "aa.backward(150)\n",
    "aa.left(90)\n",
    "aa.backward(150)\n",
    "aa.left(90)\n",
    "aa.backward(150)\n",
    "aa.left(90)\n",
    "aa.backward(150)\n",
    "aa.left(90)\n",
    "t.done()"
   ]
  },
  {
   "cell_type": "code",
   "execution_count": 3,
   "metadata": {},
   "outputs": [],
   "source": [
    "import turtle as t\n",
    "aa=t.Turtle ()\n",
    "for i in range(4):\n",
    "   aa.backward(150)\n",
    "   aa.left(90)\n",
    "t.done()"
   ]
  },
  {
   "cell_type": "code",
   "execution_count": 5,
   "metadata": {},
   "outputs": [],
   "source": [
    "import turtle as t\n",
    "aa=t.Turtle ()\n",
    "for i in range(4):\n",
    "   aa.forward(150)\n",
    "   aa.left(90)\n",
    "t.done()"
   ]
  },
  {
   "cell_type": "code",
   "execution_count": 7,
   "metadata": {},
   "outputs": [],
   "source": [
    "#star\n",
    "import turtle as t\n",
    "a1=t.Turtle()\n",
    "for i in range(40):\n",
    "    a1.forward(50)\n",
    "    a1.right(144)\n",
    "t.done()"
   ]
  },
  {
   "cell_type": "code",
   "execution_count": 9,
   "metadata": {},
   "outputs": [],
   "source": [
    "#spiriling star\n",
    "import turtle as t\n",
    "a1=t.Turtle()\n",
    "a1.pencolor('blue')\n",
    "for i in range(40):\n",
    "    a1.forward(i*10)\n",
    "    a1.right(144)\n",
    "t.done()"
   ]
  },
  {
   "cell_type": "code",
   "execution_count": 13,
   "metadata": {},
   "outputs": [],
   "source": [
    "#square spiral help of turtle\n",
    "import turtle as t\n",
    "a1=t.Turtle()\n",
    "a1.pencolor('blue')\n",
    "for i in range(250):\n",
    "    a1.forward(i)\n",
    "    a1.left(91)\n",
    "t.done()"
   ]
  },
  {
   "cell_type": "code",
   "execution_count": 15,
   "metadata": {},
   "outputs": [],
   "source": [
    "#hexagon spiral with multicolor\n",
    "from turtle import *\n",
    "colors=['blue','green','yellow','orange','purple','red']\n",
    "for x in range(360):\n",
    "    pencolor(colors[x%6])\n",
    "    width(x/100+1)\n",
    "    forward(x)\n",
    "    left(59)"
   ]
  },
  {
   "cell_type": "code",
   "execution_count": 1,
   "metadata": {},
   "outputs": [],
   "source": [
    "#goto function\n",
    "from turtle import *\n",
    "goto(50,50)\n",
    "goto(-50,50)\n",
    "goto(100,-50)\n",
    "goto(-50,-50)"
   ]
  },
  {
   "cell_type": "code",
   "execution_count": 1,
   "metadata": {},
   "outputs": [],
   "source": [
    "#setheading(heading)\n",
    "#will change the current direction into heading angle\n",
    "from turtle import *\n",
    "colors=['blue','red','purple','orange','green','yellow']\n",
    "for angle in range(0,360,15):\n",
    "    pencolor(colors[angle%6])\n",
    "    setheading(angle)\n",
    "    forward(100)\n",
    "    write(str(angle)+'o')\n",
    "    backward(100)"
   ]
  },
  {
   "cell_type": "code",
   "execution_count": 4,
   "metadata": {},
   "outputs": [],
   "source": [
    "from turtle import *\n",
    "pencolor('blue')\n",
    "for angle in range(20):\n",
    "    forward(100)\n",
    "    left(90)\n",
    "    forward(10)\n",
    "    left(90)\n",
    "    forward(100)\n",
    "    right(90)\n",
    "    forward(10)\n",
    "    right(90)\n",
    "pencolor('red')\n",
    "for i in range(90):\n",
    "    undo()"
   ]
  },
  {
   "cell_type": "code",
   "execution_count": 1,
   "metadata": {},
   "outputs": [],
   "source": [
    "from turtle import *\n",
    "pensize(50)\n",
    "pencolor('blue')\n",
    "forward(250)\n",
    "pencolor(0,1.0,0)\n",
    "forward(250)\n",
    "pensize(10)\n",
    "goto(-400,50)\n",
    "for red in range(4):\n",
    "    for green in range(4):\n",
    "        for blue in range(4):\n",
    "            pencolor(red/4.0,green/4.0,blue/4.0)\n",
    "            forward(10)"
   ]
  },
  {
   "cell_type": "code",
   "execution_count": null,
   "metadata": {},
   "outputs": [],
   "source": [
    "#generate a rectangle\n",
    "#generate a circle\n",
    "#fill the colors into rectangles and circles\n",
    "#fillcolor('color')\n",
    "#generate some stars\n",
    "#stamp()"
   ]
  }
 ],
 "metadata": {
  "kernelspec": {
   "display_name": "Python 3",
   "language": "python",
   "name": "python3"
  },
  "language_info": {
   "codemirror_mode": {
    "name": "ipython",
    "version": 3
   },
   "file_extension": ".py",
   "mimetype": "text/x-python",
   "name": "python",
   "nbconvert_exporter": "python",
   "pygments_lexer": "ipython3",
   "version": "3.7.3"
  }
 },
 "nbformat": 4,
 "nbformat_minor": 2
}
