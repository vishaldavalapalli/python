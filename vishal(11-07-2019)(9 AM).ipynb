{
 "cells": [
  {
   "cell_type": "markdown",
   "metadata": {},
   "source": [
    "### Standard Libraries\n",
    "- File I/O\n",
    "- Regular Expression\n",
    "- Datetime\n",
    "- Math (numerical and Mathematical)"
   ]
  },
  {
   "cell_type": "markdown",
   "metadata": {},
   "source": [
    "### File Handling in Python\n",
    "- File:- Document containing information resides on the permanent storage\n",
    "- Different types of files :- txt,doc,pdf,csv and etc.,\n",
    "- Input -- Keyboard\n",
    "- Output -- File\n",
    "### Modes of the File I/O\n",
    "- 'w' -- This mode is used to file writing\n",
    "      -- If the file is not present first it creates the file and write some data to it\n",
    "      -- If the file is already present then it will rewrite the previous content"
   ]
  },
  {
   "cell_type": "code",
   "execution_count": 4,
   "metadata": {},
   "outputs": [
    {
     "name": "stdout",
     "output_type": "stream",
     "text": [
      "File is created and data has written\n"
     ]
    }
   ],
   "source": [
    "# Function to create a file and write to the file\n",
    "def createFile(filename):\n",
    "    f = open(filename,'w')\n",
    "    for i in range(10):\n",
    "        f.write('This is %d line \\n' % i)\n",
    "    print(\"File is created and data has written\")\n",
    "    return\n",
    "createFile('file1.txt')"
   ]
  },
  {
   "cell_type": "code",
   "execution_count": 2,
   "metadata": {},
   "outputs": [
    {
     "name": "stdout",
     "output_type": "stream",
     "text": [
      " Volume in drive C has no label.\n",
      " Volume Serial Number is 74DE-BBE4\n",
      "\n",
      " Directory of C:\\Users\\197\n",
      "\n",
      "11-07-2019  09:08    <DIR>          .\n",
      "11-07-2019  09:08    <DIR>          ..\n",
      "07-05-2019  23:01    <DIR>          .anaconda\n",
      "06-03-2018  10:48               145 .appletviewer\n",
      "29-04-2009  05:21                 0 .cdtclient\n",
      "06-05-2019  17:44    <DIR>          .conda\n",
      "06-05-2019  17:39                43 .condarc\n",
      "12-02-2019  15:54    <DIR>          .eclipse\n",
      "14-02-2019  13:49    <DIR>          .IdeaIC2018.3\n",
      "11-07-2019  08:42    <DIR>          .ipynb_checkpoints\n",
      "05-05-2019  22:28    <DIR>          .ipython\n",
      "12-02-2019  15:55    <DIR>          .jmc\n",
      "06-05-2019  16:13    <DIR>          .jupyter\n",
      "06-05-2019  16:15    <DIR>          .matplotlib\n",
      "21-11-2018  10:13    <DIR>          .nbi\n",
      "04-12-2018  09:57    <DIR>          .oracle_jre_usage\n",
      "06-05-2019  16:17    <DIR>          .spyder-py3\n",
      "16-03-2017  10:51    <DIR>          2210314365\n",
      "12-06-2019  13:35    <DIR>          Anaconda\n",
      "12-06-2019  13:36    <DIR>          Anaconda3\n",
      "11-01-2019  11:10               587 box.java\n",
      "29-04-2009  05:21                 0 CDTClient.tmp\n",
      "05-07-2019  15:41    <DIR>          Contacts\n",
      "05-07-2019  19:28    <DIR>          Desktop\n",
      "05-07-2019  15:41    <DIR>          Documents\n",
      "11-07-2019  08:46    <DIR>          Downloads\n",
      "05-07-2019  15:41    <DIR>          Favorites\n",
      "11-07-2019  09:08               150 file1.txt\n",
      "28-03-2018  15:33    <DIR>          GlassFish_Server\n",
      "12-12-2018  14:45    <DIR>          Harsha 2251316642\n",
      "14-02-2019  13:58    <DIR>          IdeaProjects\n",
      "23-11-2018  14:22    <DIR>          java\n",
      "11-01-2019  11:25    <DIR>          java.c\n",
      "11-07-2019  09:08             1,599 Kushal(11-07-2019)(9 AM).ipynb\n",
      "05-07-2019  15:41    <DIR>          Links\n",
      "05-07-2019  15:41    <DIR>          Music\n",
      "05-07-2019  15:41    <DIR>          Pictures\n",
      "05-07-2019  15:41    <DIR>          Saved Games\n",
      "05-07-2019  15:41    <DIR>          Searches\n",
      "03-01-2019  15:51               719 test.class\n",
      "03-01-2019  15:51               333 thisdemo.class\n",
      "03-01-2019  15:50               259 thisdemo.java\n",
      "05-05-2019  22:28                72 Untitled.ipynb\n",
      "06-05-2019  16:00                72 Untitled1.ipynb\n",
      "06-05-2019  16:04                72 Untitled2.ipynb\n",
      "06-05-2019  16:07                72 Untitled3.ipynb\n",
      "06-05-2019  16:09                72 Untitled4.ipynb\n",
      "06-05-2019  16:29                72 Untitled5.ipynb\n",
      "06-05-2019  16:35                72 Untitled6.ipynb\n",
      "06-05-2019  17:05                72 Untitled7.ipynb\n",
      "06-05-2019  17:06                72 Untitled8.ipynb\n",
      "06-05-2019  17:43                72 Untitled9.ipynb\n",
      "05-07-2019  15:41    <DIR>          Videos\n",
      "              20 File(s)          4,555 bytes\n",
      "              33 Dir(s)  67,627,118,592 bytes free\n"
     ]
    }
   ],
   "source": [
    "ls"
   ]
  },
  {
   "cell_type": "code",
   "execution_count": 3,
   "metadata": {},
   "outputs": [
    {
     "ename": "SyntaxError",
     "evalue": "invalid syntax (<ipython-input-3-0bccb725251b>, line 1)",
     "output_type": "error",
     "traceback": [
      "\u001b[1;36m  File \u001b[1;32m\"<ipython-input-3-0bccb725251b>\"\u001b[1;36m, line \u001b[1;32m1\u001b[0m\n\u001b[1;33m    cat file1.txt\u001b[0m\n\u001b[1;37m            ^\u001b[0m\n\u001b[1;31mSyntaxError\u001b[0m\u001b[1;31m:\u001b[0m invalid syntax\n"
     ]
    }
   ],
   "source": [
    "cat file1.txt"
   ]
  },
  {
   "cell_type": "code",
   "execution_count": 6,
   "metadata": {},
   "outputs": [
    {
     "name": "stdout",
     "output_type": "stream",
     "text": [
      "File is created and data has written\n"
     ]
    }
   ],
   "source": [
    "def createFile(filename):\n",
    "    f = open(filename,'w')\n",
    "    f.write('Testing...\\n')\n",
    "    print(\"File is created and data has written\")\n",
    "    return\n",
    "createFile('file1.txt')"
   ]
  },
  {
   "cell_type": "code",
   "execution_count": 9,
   "metadata": {},
   "outputs": [
    {
     "name": "stdout",
     "output_type": "stream",
     "text": [
      "This is 0 Line\n",
      "\n",
      "This is 1 Line\n",
      "\n",
      "This is 2 Line\n",
      "\n",
      "This is 3 Line\n",
      "\n",
      "This is 4 Line\n",
      "\n",
      "This is 5 Line\n",
      "\n",
      "This is 6 Line\n",
      "\n",
      "This is 7 Line\n",
      "\n",
      "This is 8 Line\n",
      "\n",
      "This is 9 Line\n",
      "\n",
      "File created and successfully data written\n"
     ]
    }
   ],
   "source": [
    "def appendData(filename):\n",
    "    f = open(filename,'a')\n",
    "    for i in range(10):\n",
    "        print(\"This is %d Line\\n\" % i)\n",
    "    print(\"File created and successfully data written\")\n",
    "    return\n",
    "appendData('file2.txt')"
   ]
  },
  {
   "cell_type": "code",
   "execution_count": 11,
   "metadata": {},
   "outputs": [
    {
     "name": "stdout",
     "output_type": "stream",
     "text": [
      "File created and successfully data written\n"
     ]
    }
   ],
   "source": [
    "def appendData(filename):\n",
    "    f = open(filename,'a')\n",
    "    f.write(\"New line 1 \\n\")\n",
    "    f.write(\"New line 2 \\n\")\n",
    "    print(\"File created and successfully data written\")\n",
    "    f.close()\n",
    "    return\n",
    "appendData('file2.txt')"
   ]
  },
  {
   "cell_type": "code",
   "execution_count": 13,
   "metadata": {},
   "outputs": [
    {
     "name": "stdout",
     "output_type": "stream",
     "text": [
      "New line 1 \n",
      "New line 2 \n",
      "New line 1 \n",
      "New line 2 \n",
      "New line 1 \n",
      "New line 2 \n",
      "\n"
     ]
    }
   ],
   "source": [
    "# Function to read data of the file\n",
    "def readFileData(filename):\n",
    "    f = open(filename,'r')\n",
    "    if f.mode == 'r':\n",
    "        x = f.read()\n",
    "        print(x)\n",
    "    f.close()\n",
    "    return\n",
    "readFileData('file2.txt')"
   ]
  },
  {
   "cell_type": "code",
   "execution_count": 18,
   "metadata": {},
   "outputs": [
    {
     "name": "stdout",
     "output_type": "stream",
     "text": [
      "Enter the filename :file2.txt\n",
      "Enter the mode of the file :r\n",
      "New line 1 \n",
      "New line 2 \n",
      "New line 1 \n",
      "New line 2 \n",
      "New line 1 \n",
      "New line 2 \n",
      "\n"
     ]
    }
   ],
   "source": [
    "# Function to read file\n",
    "def readFile2(filename,mode):\n",
    "    with open(filename,mode) as f:\n",
    "        if f.mode == 'r':\n",
    "            data = f.read()\n",
    "            print(data)\n",
    "        elif f.mode == 'a':\n",
    "            f.write('Data to the file')\n",
    "            print('The data successfully written')\n",
    "    return\n",
    "filename = input('Enter the filename :')\n",
    "mode = input('Enter the mode of the file :')\n",
    "readFile2(filename,mode)"
   ]
  },
  {
   "cell_type": "code",
   "execution_count": 22,
   "metadata": {},
   "outputs": [
    {
     "name": "stdout",
     "output_type": "stream",
     "text": [
      "Enter the file name : file2.txt\n",
      "Enter the word : New\n"
     ]
    },
    {
     "data": {
      "text/plain": [
       "6"
      ]
     },
     "execution_count": 22,
     "metadata": {},
     "output_type": "execute_result"
    }
   ],
   "source": [
    "# Data Analysis\n",
    "# Word count Program\n",
    "def wordCount(filename,word):\n",
    "    with open(filename,'r') as f:\n",
    "        if f.mode == 'r':\n",
    "            x = f.read()\n",
    "            li = x.split()\n",
    "    cnt = li.count(word)\n",
    "    return cnt\n",
    "filename = input('Enter the file name : ')\n",
    "word = input('Enter the word : ') # which word count you need\n",
    "wordCount(filename,word)"
   ]
  },
  {
   "cell_type": "code",
   "execution_count": 26,
   "metadata": {},
   "outputs": [
    {
     "name": "stdout",
     "output_type": "stream",
     "text": [
      "Enter the file name :file2.txt\n"
     ]
    },
    {
     "data": {
      "text/plain": [
       "174"
      ]
     },
     "execution_count": 26,
     "metadata": {},
     "output_type": "execute_result"
    }
   ],
   "source": [
    "# character from the given file\n",
    "def charCount(filename):\n",
    "    with open(filename,'r') as f:\n",
    "        if f.mode == 'r':\n",
    "            x = f.read()\n",
    "            li = list(x)\n",
    "    return len(li)\n",
    "filename = input('Enter the file name :')\n",
    "charCount(filename)"
   ]
  },
  {
   "cell_type": "code",
   "execution_count": 24,
   "metadata": {},
   "outputs": [
    {
     "name": "stdout",
     "output_type": "stream",
     "text": [
      "['Python Progr', 'mming']\n"
     ]
    }
   ],
   "source": [
    "s1 = \"Python Programming\"\n",
    "print(s1.split('a'))"
   ]
  },
  {
   "cell_type": "code",
   "execution_count": 27,
   "metadata": {},
   "outputs": [
    {
     "name": "stdout",
     "output_type": "stream",
     "text": [
      "Enter the filename  :  file2.txt\n"
     ]
    },
    {
     "data": {
      "text/plain": [
       "12"
      ]
     },
     "execution_count": 27,
     "metadata": {},
     "output_type": "execute_result"
    }
   ],
   "source": [
    "# Function to find the no.of lines in the input file\n",
    "# Input -- filename(file2.txt)\n",
    "# Output -- No of lines(12)\n",
    "def countOfLines(filename):\n",
    "    with open(filename,'r') as f:\n",
    "        if f.mode == 'r':\n",
    "            x =f.read()\n",
    "            li = x.split(\"\\n\")\n",
    "    return len(li)\n",
    "filename = input('Enter the filename  :  ')\n",
    "countOfLines(filename)"
   ]
  },
  {
   "cell_type": "code",
   "execution_count": 28,
   "metadata": {},
   "outputs": [
    {
     "name": "stdout",
     "output_type": "stream",
     "text": [
      "Enter the filename : file2.txt\n"
     ]
    },
    {
     "data": {
      "text/plain": [
       "'Upper Case = 22 , Lower Case = 92'"
      ]
     },
     "execution_count": 28,
     "metadata": {},
     "output_type": "execute_result"
    }
   ],
   "source": [
    "# Function to print the Upper and Lower characters\n",
    "def caseCount(filename):\n",
    "    cntUpper = 0\n",
    "    cntLower = 0\n",
    "    with open(filename,'r') as f:\n",
    "        if f.mode == 'r':\n",
    "            x = f.read()\n",
    "            li = list(x)\n",
    "    for i in li:\n",
    "        if i.isupper():\n",
    "            cntUpper += 1 #cntUpper = cntUpper + 1\n",
    "        elif i.islower():\n",
    "            cntLower += 1 #cntLower = cntLower + 1\n",
    "    output = 'Upper Case = {0} , Lower Case = {1}'.format(cntUpper,cntLower)\n",
    "    return output\n",
    "filename = input('Enter the filename : ')\n",
    "caseCount(filename)"
   ]
  },
  {
   "cell_type": "markdown",
   "metadata": {},
   "source": [
    "### math , random , os\n",
    "- os package it contains the certain methods which works with OS"
   ]
  },
  {
   "cell_type": "code",
   "execution_count": 29,
   "metadata": {},
   "outputs": [
    {
     "name": "stdout",
     "output_type": "stream",
     "text": [
      "[WinError 3] The system cannot find the path specified: 'Desktop/PythonProg/Git'\n",
      "C:\\Users\\197\n"
     ]
    }
   ],
   "source": [
    "cd Desktop/PythonProg/Git"
   ]
  },
  {
   "cell_type": "code",
   "execution_count": 30,
   "metadata": {},
   "outputs": [
    {
     "name": "stdout",
     "output_type": "stream",
     "text": [
      "C:\\Users\\197\\Desktop\\PythonProg\\Git\n"
     ]
    }
   ],
   "source": [
    "cd Desktop/PythonProg/Git"
   ]
  },
  {
   "cell_type": "code",
   "execution_count": 31,
   "metadata": {},
   "outputs": [
    {
     "name": "stdout",
     "output_type": "stream",
     "text": [
      " Volume in drive C has no label.\n",
      " Volume Serial Number is 74DE-BBE4\n",
      "\n",
      " Directory of C:\\Users\\197\\Desktop\\PythonProg\\Git\n",
      "\n",
      "11-07-2019  12:32    <DIR>          .\n",
      "11-07-2019  12:32    <DIR>          ..\n",
      "               0 File(s)              0 bytes\n",
      "               2 Dir(s)  67,361,107,968 bytes free\n"
     ]
    }
   ],
   "source": [
    "ls"
   ]
  },
  {
   "cell_type": "code",
   "execution_count": 32,
   "metadata": {},
   "outputs": [
    {
     "name": "stdout",
     "output_type": "stream",
     "text": [
      "C:\\Users\\197\\Desktop\\PythonProg\n"
     ]
    }
   ],
   "source": [
    "cd .."
   ]
  },
  {
   "cell_type": "code",
   "execution_count": 33,
   "metadata": {},
   "outputs": [
    {
     "data": {
      "text/plain": [
       "[]"
      ]
     },
     "execution_count": 33,
     "metadata": {},
     "output_type": "execute_result"
    }
   ],
   "source": [
    "import os\n",
    "os.listdir('Git/') # listdir() -- ls"
   ]
  },
  {
   "cell_type": "code",
   "execution_count": 41,
   "metadata": {},
   "outputs": [
    {
     "name": "stdout",
     "output_type": "stream",
     "text": [
      "name 2.txt\n",
      "name1.txt\n"
     ]
    }
   ],
   "source": [
    "li = os.listdir('Git/')\n",
    "for i in li:\n",
    "    print(i)"
   ]
  },
  {
   "cell_type": "markdown",
   "metadata": {},
   "source": [
    "- Older version Python -- os.listdir()\n",
    "- Newer version Python -- os.scandir() and pathlib.Path()"
   ]
  },
  {
   "cell_type": "code",
   "execution_count": 42,
   "metadata": {},
   "outputs": [
    {
     "name": "stdout",
     "output_type": "stream",
     "text": [
      "<DirEntry 'name 2.txt'>\n",
      "<DirEntry 'name1.txt'>\n"
     ]
    }
   ],
   "source": [
    "li = os.scandir('Git/')\n",
    "for i in li:\n",
    "    print(i)"
   ]
  },
  {
   "cell_type": "code",
   "execution_count": 43,
   "metadata": {},
   "outputs": [
    {
     "name": "stdout",
     "output_type": "stream",
     "text": [
      "name 2.txt\n",
      "name1.txt\n"
     ]
    }
   ],
   "source": [
    "from pathlib import Path\n",
    "li = Path('Git/')\n",
    "for i in li.iterdir():\n",
    "    print(i.name)"
   ]
  },
  {
   "cell_type": "code",
   "execution_count": null,
   "metadata": {},
   "outputs": [],
   "source": []
  }
 ],
 "metadata": {
  "kernelspec": {
   "display_name": "Python 3",
   "language": "python",
   "name": "python3"
  },
  "language_info": {
   "codemirror_mode": {
    "name": "ipython",
    "version": 3
   },
   "file_extension": ".py",
   "mimetype": "text/x-python",
   "name": "python",
   "nbconvert_exporter": "python",
   "pygments_lexer": "ipython3",
   "version": "3.7.3"
  }
 },
 "nbformat": 4,
 "nbformat_minor": 2
}
