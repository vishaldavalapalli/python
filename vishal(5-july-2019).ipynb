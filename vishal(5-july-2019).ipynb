{
 "cells": [
  {
   "cell_type": "code",
   "execution_count": 1,
   "metadata": {},
   "outputs": [
    {
     "name": "stdout",
     "output_type": "stream",
     "text": [
      "<class 'str'>\n",
      "<class 'int'>\n",
      "<class 'int'>\n",
      "1\n"
     ]
    }
   ],
   "source": [
    "s1 =\"100\"\n",
    "print(type(s1))\n",
    "a =int(s1)\n",
    "print(type(a))\n",
    "\n",
    "f =1.5\n",
    "a1 =int(f)\n",
    "print(type(a1))\n",
    "print(a1)"
   ]
  },
  {
   "cell_type": "code",
   "execution_count": 2,
   "metadata": {},
   "outputs": [
    {
     "name": "stdout",
     "output_type": "stream",
     "text": [
      "4\n"
     ]
    }
   ],
   "source": [
    "#a no is given 1234\n",
    "#digit count\n",
    "a1=1234\n",
    "print(len(str(a1)))"
   ]
  },
  {
   "cell_type": "code",
   "execution_count": 3,
   "metadata": {},
   "outputs": [
    {
     "name": "stdout",
     "output_type": "stream",
     "text": [
      "enter your namekrish vrutti\n",
      "krish vrutti\n",
      "<class 'str'>\n"
     ]
    }
   ],
   "source": [
    "s1=input(\"enter your name\")\n",
    "print(s1)\n",
    "print(type(s1))"
   ]
  },
  {
   "cell_type": "code",
   "execution_count": 4,
   "metadata": {},
   "outputs": [
    {
     "name": "stdout",
     "output_type": "stream",
     "text": [
      "enter a no49\n",
      "49 <class 'int'>\n"
     ]
    }
   ],
   "source": [
    "#w3ant a no\n",
    "n1=int(input(\"enter a no\"))\n",
    "print(n1,type(n1))"
   ]
  },
  {
   "cell_type": "code",
   "execution_count": 5,
   "metadata": {},
   "outputs": [
    {
     "name": "stdout",
     "output_type": "stream",
     "text": [
      "1244\n",
      "1224\n",
      "12340\n",
      "123.4\n",
      "4\n",
      "123.4\n",
      "8187505353567209228244052427776\n"
     ]
    }
   ],
   "source": [
    "n1=1234\n",
    "print(n1+10)\n",
    "print(n1-10)\n",
    "print(n1*10)\n",
    "print(n1/10)\n",
    "print(n1%10)\n",
    "print(n1/10)\n",
    "print(n1**10)"
   ]
  },
  {
   "cell_type": "code",
   "execution_count": 6,
   "metadata": {},
   "outputs": [
    {
     "name": "stdout",
     "output_type": "stream",
     "text": [
      "8.0\n"
     ]
    }
   ],
   "source": [
    "x=1+2**3/4+5\n",
    "print(x)"
   ]
  },
  {
   "cell_type": "code",
   "execution_count": 7,
   "metadata": {},
   "outputs": [
    {
     "name": "stdout",
     "output_type": "stream",
     "text": [
      "11.0\n"
     ]
    }
   ],
   "source": [
    "x=1+2**3/4*5\n",
    "print(x)"
   ]
  },
  {
   "cell_type": "code",
   "execution_count": 8,
   "metadata": {},
   "outputs": [
    {
     "name": "stdout",
     "output_type": "stream",
     "text": [
      "True\n",
      "False\n"
     ]
    }
   ],
   "source": [
    "i=100\n",
    "a1=(i>15) and (i<800)\n",
    "a2=(i>15) and (i>800)\n",
    "print(a1)\n",
    "print(a2)"
   ]
  },
  {
   "cell_type": "code",
   "execution_count": 5,
   "metadata": {},
   "outputs": [
    {
     "name": "stdout",
     "output_type": "stream",
     "text": [
      "enter a no4\n",
      "even\n"
     ]
    }
   ],
   "source": [
    "#to check given no is even or odd \n",
    "n=int(input(\"enter a no\"))\n",
    "if (n%2==0):\n",
    "    print(\"even\")\n",
    "else:\n",
    "    print(\"odd\")"
   ]
  },
  {
   "cell_type": "code",
   "execution_count": 6,
   "metadata": {},
   "outputs": [
    {
     "name": "stdout",
     "output_type": "stream",
     "text": [
      "enter a no25\n",
      "no\n"
     ]
    }
   ],
   "source": [
    "#to chech given no is a multiple of 3 and 5\n",
    "n=int(input(\"enter a no\"))\n",
    "if n%3==0 and n%5==0:\n",
    "   print(\"yes\")\n",
    "else:\n",
    "    print(\"no\")"
   ]
  },
  {
   "cell_type": "code",
   "execution_count": 7,
   "metadata": {},
   "outputs": [
    {
     "name": "stdout",
     "output_type": "stream",
     "text": [
      "enter a no52\n",
      "no is positive\n"
     ]
    }
   ],
   "source": [
    "#test given a no is positive negative or zero\n",
    "n=int(input(\"enter a no\"))\n",
    "if n==0:\n",
    "    print(\"zero\")\n",
    "elif n<0:\n",
    "    print(\"no is negative\")\n",
    "elif n>0:\n",
    "    print(\"no is positive\")"
   ]
  },
  {
   "cell_type": "code",
   "execution_count": null,
   "metadata": {},
   "outputs": [],
   "source": []
  }
 ],
 "metadata": {
  "kernelspec": {
   "display_name": "Python 3",
   "language": "python",
   "name": "python3"
  },
  "language_info": {
   "codemirror_mode": {
    "name": "ipython",
    "version": 3
   },
   "file_extension": ".py",
   "mimetype": "text/x-python",
   "name": "python",
   "nbconvert_exporter": "python",
   "pygments_lexer": "ipython3",
   "version": "3.7.3"
  }
 },
 "nbformat": 4,
 "nbformat_minor": 2
}
